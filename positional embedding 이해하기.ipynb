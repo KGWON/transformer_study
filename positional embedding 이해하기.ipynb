{
 "cells": [
  {
   "cell_type": "markdown",
   "metadata": {},
   "source": [
    "# positional embedding\n",
    "- transformer는 RNN과 달리 토큰의 순차적 정보를 반영할 수 없다\n",
    "- 그러나 토큰의 순서는 언어 모델에서 매우 중요하므로 토큰의 **순서**를 반영할 수 있는 방법이 고안되어야 하였다.\n",
    "- positional embedding은 문장의 벡터 행렬에 positional encoding matrix를 더하여 토큰의 순서 정보를 반영할 수 있게 하는 역할을 한다"
   ]
  },
  {
   "cell_type": "markdown",
   "metadata": {},
   "source": [
    "## Reference\n",
    "- [딥러닝을 통한 자연어 처리 입문 - 트랜스포머(Transformer)](https://wikidocs.net/31379)"
   ]
  },
  {
   "cell_type": "code",
   "execution_count": 130,
   "metadata": {
    "ExecuteTime": {
     "end_time": "2019-12-19T15:22:59.973224Z",
     "start_time": "2019-12-19T15:22:59.970904Z"
    }
   },
   "outputs": [],
   "source": [
    "import numpy as np\n",
    "import matplotlib.pyplot as plt"
   ]
  },
  {
   "cell_type": "code",
   "execution_count": 131,
   "metadata": {
    "ExecuteTime": {
     "end_time": "2019-12-19T15:23:00.132038Z",
     "start_time": "2019-12-19T15:23:00.126385Z"
    }
   },
   "outputs": [],
   "source": [
    "def get_angles(pos, i, d_model):\n",
    "    angle_rates = 1 / np.power(10000, (2 * (i//2)) / np.float32(d_model))\n",
    "    return pos * angle_rates\n",
    "\n",
    "def positional_encoding(position, d_model):\n",
    "#     angle_rads = get_angles(np.arange(position)[:, np.newaxis],\n",
    "#                           np.arange(d_model)[np.newaxis, :],\n",
    "#                           d_model)\n",
    "\n",
    "    angle_rads = get_angles(np.expand_dims(np.arange(position), -1),\n",
    "                            np.expand_dims(np.arange(d_model), 0),\n",
    "                            d_model)\n",
    "    \n",
    "  # 배열의 짝수 인덱스(2i)에는 사인 함수 적용\n",
    "    angle_rads[:, 0::2] = np.sin(angle_rads[:, 0::2])\n",
    "\n",
    "  # 배열의 홀수 인덱스(2i+1)에는 코사인 함수 적용\n",
    "    angle_rads[:, 1::2] = np.cos(angle_rads[:, 1::2])\n",
    "    pos_encoding = angle_rads[np.newaxis, ...]\n",
    "    return pos_encoding"
   ]
  },
  {
   "cell_type": "code",
   "execution_count": 132,
   "metadata": {
    "ExecuteTime": {
     "end_time": "2019-12-19T15:23:00.270249Z",
     "start_time": "2019-12-19T15:23:00.267672Z"
    }
   },
   "outputs": [],
   "source": [
    "position = 10\n",
    "d_model = 5"
   ]
  },
  {
   "cell_type": "code",
   "execution_count": 133,
   "metadata": {
    "ExecuteTime": {
     "end_time": "2019-12-19T15:23:00.427125Z",
     "start_time": "2019-12-19T15:23:00.420879Z"
    }
   },
   "outputs": [
    {
     "name": "stdout",
     "output_type": "stream",
     "text": [
      "[[0]\n",
      " [1]\n",
      " [2]\n",
      " [3]\n",
      " [4]\n",
      " [5]\n",
      " [6]\n",
      " [7]\n",
      " [8]\n",
      " [9]]\n",
      "(10, 1)\n"
     ]
    }
   ],
   "source": [
    "a = np.expand_dims(np.arange(10), -1)\n",
    "print(a)\n",
    "print(a.shape)"
   ]
  },
  {
   "cell_type": "code",
   "execution_count": 134,
   "metadata": {
    "ExecuteTime": {
     "end_time": "2019-12-19T15:23:00.565407Z",
     "start_time": "2019-12-19T15:23:00.561101Z"
    }
   },
   "outputs": [
    {
     "name": "stdout",
     "output_type": "stream",
     "text": [
      "[[0 1 2 3 4]]\n",
      "(1, 5)\n"
     ]
    }
   ],
   "source": [
    "b = np.expand_dims(np.arange(d_model), 0)\n",
    "print(b)\n",
    "print(b.shape)"
   ]
  },
  {
   "cell_type": "code",
   "execution_count": 135,
   "metadata": {
    "ExecuteTime": {
     "end_time": "2019-12-19T15:23:00.893225Z",
     "start_time": "2019-12-19T15:23:00.890349Z"
    }
   },
   "outputs": [],
   "source": [
    "angle_rads = a * b"
   ]
  },
  {
   "cell_type": "code",
   "execution_count": 136,
   "metadata": {
    "ExecuteTime": {
     "end_time": "2019-12-19T15:23:01.277518Z",
     "start_time": "2019-12-19T15:23:01.272488Z"
    }
   },
   "outputs": [
    {
     "data": {
      "text/plain": [
       "array([[ 0,  0,  0],\n",
       "       [ 0,  2,  4],\n",
       "       [ 0,  4,  8],\n",
       "       [ 0,  6, 12],\n",
       "       [ 0,  8, 16],\n",
       "       [ 0, 10, 20],\n",
       "       [ 0, 12, 24],\n",
       "       [ 0, 14, 28],\n",
       "       [ 0, 16, 32],\n",
       "       [ 0, 18, 36]])"
      ]
     },
     "execution_count": 136,
     "metadata": {},
     "output_type": "execute_result"
    }
   ],
   "source": [
    "angle_rads[:, 0::2]"
   ]
  },
  {
   "cell_type": "code",
   "execution_count": 137,
   "metadata": {
    "ExecuteTime": {
     "end_time": "2019-12-19T15:23:01.797271Z",
     "start_time": "2019-12-19T15:23:01.790232Z"
    }
   },
   "outputs": [
    {
     "name": "stdout",
     "output_type": "stream",
     "text": [
      "[[[ 0.00000000e+00  1.00000000e+00  0.00000000e+00  1.00000000e+00\n",
      "    0.00000000e+00]\n",
      "  [ 8.41470985e-01  5.40302306e-01  2.51162229e-02  9.99684538e-01\n",
      "    6.30957303e-04]\n",
      "  [ 9.09297427e-01 -4.16146837e-01  5.02165994e-02  9.98738351e-01\n",
      "    1.26191435e-03]\n",
      "  [ 1.41120008e-01 -9.89992497e-01  7.52852930e-02  9.97162035e-01\n",
      "    1.89287090e-03]\n",
      "  [-7.56802495e-01 -6.53643621e-01  1.00306487e-01  9.94956586e-01\n",
      "    2.52382670e-03]\n",
      "  [-9.58924275e-01  2.83662185e-01  1.25264396e-01  9.92123395e-01\n",
      "    3.15478149e-03]\n",
      "  [-2.79415498e-01  9.60170287e-01  1.50143272e-01  9.88664249e-01\n",
      "    3.78573502e-03]\n",
      "  [ 6.56986599e-01  7.53902254e-01  1.74927419e-01  9.84581331e-01\n",
      "    4.41668705e-03]\n",
      "  [ 9.89358247e-01 -1.45500034e-01  1.99601200e-01  9.79877217e-01\n",
      "    5.04763732e-03]\n",
      "  [ 4.12118485e-01 -9.11130262e-01  2.24149048e-01  9.74554875e-01\n",
      "    5.67858558e-03]\n",
      "  [-5.44021111e-01 -8.39071529e-01  2.48555475e-01  9.68617662e-01\n",
      "    6.30953158e-03]\n",
      "  [-9.99990207e-01  4.42569799e-03  2.72805083e-01  9.62069325e-01\n",
      "    6.94047507e-03]\n",
      "  [-5.36572918e-01  8.43853959e-01  2.96882571e-01  9.54913996e-01\n",
      "    7.57141579e-03]\n",
      "  [ 4.20167037e-01  9.07446781e-01  3.20772748e-01  9.47156188e-01\n",
      "    8.20235350e-03]\n",
      "  [ 9.90607356e-01  1.36737218e-01  3.44460542e-01  9.38800796e-01\n",
      "    8.83328795e-03]\n",
      "  [ 6.50287840e-01 -7.59687913e-01  3.67931008e-01  9.29853092e-01\n",
      "    9.46421887e-03]\n",
      "  [-2.87903317e-01 -9.57659480e-01  3.91169338e-01  9.20318722e-01\n",
      "    1.00951460e-02]\n",
      "  [-9.61397492e-01 -2.75163338e-01  4.14160869e-01  9.10203700e-01\n",
      "    1.07260692e-02]\n",
      "  [-7.50987247e-01  6.60316708e-01  4.36891096e-01  8.99514408e-01\n",
      "    1.13569880e-02]\n",
      "  [ 1.49877210e-01  9.88704618e-01  4.59345677e-01  8.88257591e-01\n",
      "    1.19879024e-02]\n",
      "  [ 9.12945251e-01  4.08082062e-01  4.81510447e-01  8.76440351e-01\n",
      "    1.26188120e-02]\n",
      "  [ 8.36655639e-01 -5.47729260e-01  5.03371420e-01  8.64070144e-01\n",
      "    1.32497165e-02]\n",
      "  [-8.85130929e-03 -9.99960826e-01  5.24914804e-01  8.51154774e-01\n",
      "    1.38806158e-02]\n",
      "  [-8.46220404e-01 -5.32833020e-01  5.46127006e-01  8.37702390e-01\n",
      "    1.45115096e-02]\n",
      "  [-9.05578362e-01  4.24179007e-01  5.66994643e-01  8.23721479e-01\n",
      "    1.51423975e-02]\n",
      "  [-1.32351750e-01  9.91202812e-01  5.87504550e-01  8.09220862e-01\n",
      "    1.57732795e-02]\n",
      "  [ 7.62558450e-01  6.46919322e-01  6.07643787e-01  7.94209688e-01\n",
      "    1.64041552e-02]\n",
      "  [ 9.56375928e-01 -2.92138809e-01  6.27399646e-01  7.78697428e-01\n",
      "    1.70350243e-02]\n",
      "  [ 2.70905788e-01 -9.62605866e-01  6.46759663e-01  7.62693869e-01\n",
      "    1.76658866e-02]\n",
      "  [-6.63633884e-01 -7.48057530e-01  6.65711624e-01  7.46209108e-01\n",
      "    1.82967420e-02]\n",
      "  [-9.88031624e-01  1.54251450e-01  6.84243572e-01  7.29253546e-01\n",
      "    1.89275900e-02]\n",
      "  [-4.04037645e-01  9.14742358e-01  7.02343813e-01  7.11837880e-01\n",
      "    1.95584305e-02]\n",
      "  [ 5.51426681e-01  8.34223361e-01  7.20000929e-01  6.93973099e-01\n",
      "    2.01892632e-02]\n",
      "  [ 9.99911860e-01 -1.32767472e-02  7.37203779e-01  6.75670473e-01\n",
      "    2.08200879e-02]\n",
      "  [ 5.29082686e-01 -8.48570275e-01  7.53941510e-01  6.56941550e-01\n",
      "    2.14509043e-02]\n",
      "  [-4.28182669e-01 -9.03692205e-01  7.70203560e-01  6.37798147e-01\n",
      "    2.20817121e-02]\n",
      "  [-9.91778853e-01 -1.27963690e-01  7.85979671e-01  6.18252341e-01\n",
      "    2.27125112e-02]\n",
      "  [-6.43538133e-01  7.65414052e-01  8.01259887e-01  5.98316465e-01\n",
      "    2.33433012e-02]\n",
      "  [ 2.96368579e-01  9.55073644e-01  8.16034570e-01  5.78003097e-01\n",
      "    2.39740820e-02]\n",
      "  [ 9.63795386e-01  2.66642932e-01  8.30294397e-01  5.57325053e-01\n",
      "    2.46048531e-02]\n",
      "  [ 7.45113160e-01 -6.66938062e-01  8.44030371e-01  5.36295379e-01\n",
      "    2.52356145e-02]\n",
      "  [-1.58622669e-01 -9.87339278e-01  8.57233825e-01  5.14927343e-01\n",
      "    2.58663659e-02]\n",
      "  [-9.16521548e-01 -3.99985315e-01  8.69896430e-01  4.93234427e-01\n",
      "    2.64971069e-02]\n",
      "  [-8.31774743e-01  5.55113302e-01  8.82010197e-01  4.71230318e-01\n",
      "    2.71278374e-02]\n",
      "  [ 1.77019251e-02  9.99843309e-01  8.93567482e-01  4.48928898e-01\n",
      "    2.77585571e-02]\n",
      "  [ 8.50903525e-01  5.25321989e-01  9.04560993e-01  4.26344238e-01\n",
      "    2.83892657e-02]\n",
      "  [ 9.01788348e-01 -4.32177945e-01  9.14983796e-01  4.03490587e-01\n",
      "    2.90199631e-02]\n",
      "  [ 1.23573123e-01 -9.92335469e-01  9.24829312e-01  3.80382364e-01\n",
      "    2.96506489e-02]\n",
      "  [-7.68254661e-01 -6.40144339e-01  9.34091332e-01  3.57034148e-01\n",
      "    3.02813228e-02]\n",
      "  [-9.53752653e-01  3.00592544e-01  9.42764011e-01  3.33460672e-01\n",
      "    3.09119848e-02]]]\n",
      "(1, 50, 5)\n"
     ]
    }
   ],
   "source": [
    "pos_encoding = positional_encoding(50, d_model)\n",
    "print(pos_encoding)\n",
    "print(pos_encoding.shape)"
   ]
  },
  {
   "cell_type": "code",
   "execution_count": 138,
   "metadata": {
    "ExecuteTime": {
     "end_time": "2019-12-19T15:23:02.874253Z",
     "start_time": "2019-12-19T15:23:02.736856Z"
    }
   },
   "outputs": [
    {
     "data": {
      "image/png": "[encoded data removed]",
      "text/plain": [
       "<Figure size 432x288 with 2 Axes>"
      ]
     },
     "metadata": {},
     "output_type": "display_data"
    }
   ],
   "source": [
    "# postional encoding을 시각화한다.\n",
    "plt.pcolormesh(pos_encoding[0], cmap='RdBu')\n",
    "plt.xlabel('Depth')\n",
    "plt.xlim((0, d_model))\n",
    "plt.ylabel('Position')\n",
    "plt.colorbar()\n",
    "plt.show()"
   ]
  },
  {
   "cell_type": "code",
   "execution_count": null,
   "metadata": {},
   "outputs": [],
   "source": []
  }
 ],
 "metadata": {
  "kernelspec": {
   "display_name": "Python 3",
   "language": "python",
   "name": "python3"
  },
  "language_info": {
   "codemirror_mode": {
    "name": "ipython",
    "version": 3
   },
   "file_extension": ".py",
   "mimetype": "text/x-python",
   "name": "python",
   "nbconvert_exporter": "python",
   "pygments_lexer": "ipython3",
   "version": "3.6.5"
  },
  "toc": {
   "base_numbering": 1,
   "nav_menu": {},
   "number_sections": true,
   "sideBar": true,
   "skip_h1_title": false,
   "title_cell": "Table of Contents",
   "title_sidebar": "Contents",
   "toc_cell": false,
   "toc_position": {},
   "toc_section_display": true,
   "toc_window_display": false
  },
  "varInspector": {
   "cols": {
    "lenName": 16,
    "lenType": 16,
    "lenVar": 40
   },
   "kernels_config": {
    "python": {
     "delete_cmd_postfix": "",
     "delete_cmd_prefix": "del ",
     "library": "var_list.py",
     "varRefreshCmd": "print(var_dic_list())"
    },
    "r": {
     "delete_cmd_postfix": ") ",
     "delete_cmd_prefix": "rm(",
     "library": "var_list.r",
     "varRefreshCmd": "cat(var_dic_list()) "
    }
   },
   "types_to_exclude": [
    "module",
    "function",
    "builtin_function_or_method",
    "instance",
    "_Feature"
   ],
   "window_display": false
  }
 },
 "nbformat": 4,
 "nbformat_minor": 2
}
