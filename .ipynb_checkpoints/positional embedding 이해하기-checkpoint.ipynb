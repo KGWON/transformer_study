{
 "cells": [
  {
   "cell_type": "markdown",
   "metadata": {},
   "source": [
    "# positional embedding\n",
    "- transformer는 RNN과 달리 토큰의 순차적 정보를 반영할 수 없다\n",
    "- 그러나 토큰의 순서는 언어 모델에서 매우 중요하므로 토큰의 **순서**를 반영할 수 있는 방법이 고안되어야 하였다.\n",
    "- positional embedding은 문장의 벡터 행렬에 positional encoding matrix를 더하여 토큰의 순서 정보를 반영할 수 있게 하는 역할을 한다"
   ]
  },
  {
   "cell_type": "markdown",
   "metadata": {},
   "source": [
    "## Reference\n",
    "- [딥러닝을 통한 자연어 처리 입문 - 트랜스포머(Transformer)](https://wikidocs.net/31379)"
   ]
  },
  {
   "cell_type": "code",
   "execution_count": 9,
   "metadata": {
    "ExecuteTime": {
     "end_time": "2019-12-19T15:39:58.726815Z",
     "start_time": "2019-12-19T15:39:58.723717Z"
    }
   },
   "outputs": [],
   "source": [
    "# 필요한 모듈을 임포트 한다\n",
    "import numpy as np\n",
    "import matplotlib.pyplot as plt"
   ]
  },
  {
   "cell_type": "code",
   "execution_count": 17,
   "metadata": {
    "ExecuteTime": {
     "end_time": "2019-12-19T15:40:41.974517Z",
     "start_time": "2019-12-19T15:40:41.970519Z"
    }
   },
   "outputs": [],
   "source": [
    "# positional encoding matrix를 만들기 위한 각 원소의 값을 구한다\n",
    "def get_angles(pos, i, d_model):\n",
    "    angle_rates = 1 / np.power(10000, (2 * (i//2)) / np.float32(d_model))\n",
    "    return pos * angle_rates\n",
    "\n",
    "# positional encoding matrix를 만든다\n",
    "def positional_encoding(position, d_model):\n",
    "    angle_rads = get_angles(np.expand_dims(np.arange(position), -1),\n",
    "                            np.expand_dims(np.arange(d_model), 0),\n",
    "                            d_model)\n",
    "    \n",
    "    # 배열의 짝수 인덱스(2i)에는 사인(sine) 함수 적용\n",
    "    angle_rads[:, 0::2] = np.sin(angle_rads[:, 0::2]) # postional encoding matrix의 열을 '0'부터 시작해서 '2'씩 커지면서 인덱싱 한다 (= 짝수 인덱스만 골라낸다)\n",
    "\n",
    "    # 배열의 홀수 인덱스(2i+1)에는 코사인(cosine) 함수 적용\n",
    "    angle_rads[:, 1::2] = np.cos(angle_rads[:, 1::2]) # postional encoding matrix의 열을 '0'부터 시작해서 '2'씩 커지면서 인덱싱 한다 (= 홀수 인덱스만 골라낸다) \n",
    "    \n",
    "    \n",
    "    pos_encoding = angle_rads[np.newaxis, ...]\n",
    "    \n",
    "    return pos_encoding"
   ]
  },
  {
   "cell_type": "code",
   "execution_count": 18,
   "metadata": {
    "ExecuteTime": {
     "end_time": "2019-12-19T15:40:42.107776Z",
     "start_time": "2019-12-19T15:40:42.105171Z"
    }
   },
   "outputs": [],
   "source": [
    "# position의 길이가 5라고 가정\n",
    "position = 5\n",
    "\n",
    "# d_model이 3이라고 가정\n",
    "d_model = 3"
   ]
  },
  {
   "cell_type": "code",
   "execution_count": 19,
   "metadata": {
    "ExecuteTime": {
     "end_time": "2019-12-19T15:40:42.245878Z",
     "start_time": "2019-12-19T15:40:42.240875Z"
    }
   },
   "outputs": [
    {
     "name": "stdout",
     "output_type": "stream",
     "text": [
      "[[0]\n",
      " [1]\n",
      " [2]\n",
      " [3]\n",
      " [4]\n",
      " [5]\n",
      " [6]\n",
      " [7]\n",
      " [8]\n",
      " [9]]\n",
      "(10, 1)\n"
     ]
    }
   ],
   "source": [
    "a = np.expand_dims(np.arange(10), -1)\n",
    "print(a)\n",
    "print(a.shape)"
   ]
  },
  {
   "cell_type": "code",
   "execution_count": 20,
   "metadata": {
    "ExecuteTime": {
     "end_time": "2019-12-19T15:40:42.402881Z",
     "start_time": "2019-12-19T15:40:42.397065Z"
    }
   },
   "outputs": [
    {
     "name": "stdout",
     "output_type": "stream",
     "text": [
      "[[0 1 2]]\n",
      "(1, 3)\n"
     ]
    }
   ],
   "source": [
    "b = np.expand_dims(np.arange(d_model), 0)\n",
    "print(b)\n",
    "print(b.shape)"
   ]
  },
  {
   "cell_type": "code",
   "execution_count": 21,
   "metadata": {
    "ExecuteTime": {
     "end_time": "2019-12-19T15:40:43.211092Z",
     "start_time": "2019-12-19T15:40:43.207363Z"
    }
   },
   "outputs": [
    {
     "name": "stdout",
     "output_type": "stream",
     "text": [
      "[[ 0  0  0]\n",
      " [ 0  1  2]\n",
      " [ 0  2  4]\n",
      " [ 0  3  6]\n",
      " [ 0  4  8]\n",
      " [ 0  5 10]\n",
      " [ 0  6 12]\n",
      " [ 0  7 14]\n",
      " [ 0  8 16]\n",
      " [ 0  9 18]]\n"
     ]
    }
   ],
   "source": [
    "angle_rads = a * b\n",
    "print(angle_rads)"
   ]
  },
  {
   "cell_type": "code",
   "execution_count": 22,
   "metadata": {
    "ExecuteTime": {
     "end_time": "2019-12-19T15:40:43.684892Z",
     "start_time": "2019-12-19T15:40:43.679102Z"
    }
   },
   "outputs": [
    {
     "data": {
      "text/plain": [
       "array([[ 0,  0],\n",
       "       [ 0,  2],\n",
       "       [ 0,  4],\n",
       "       [ 0,  6],\n",
       "       [ 0,  8],\n",
       "       [ 0, 10],\n",
       "       [ 0, 12],\n",
       "       [ 0, 14],\n",
       "       [ 0, 16],\n",
       "       [ 0, 18]])"
      ]
     },
     "execution_count": 22,
     "metadata": {},
     "output_type": "execute_result"
    }
   ],
   "source": [
    "angle_rads[:, 0::2]"
   ]
  },
  {
   "cell_type": "code",
   "execution_count": 23,
   "metadata": {
    "ExecuteTime": {
     "end_time": "2019-12-19T15:40:44.113494Z",
     "start_time": "2019-12-19T15:40:44.107605Z"
    }
   },
   "outputs": [
    {
     "name": "stdout",
     "output_type": "stream",
     "text": [
      "[[[ 0.          1.          0.        ]\n",
      "  [ 0.84147098  0.54030231  0.00215443]\n",
      "  [ 0.90929743 -0.41614684  0.00430886]\n",
      "  [ 0.14112001 -0.9899925   0.00646326]\n",
      "  [-0.7568025  -0.65364362  0.00861763]]]\n",
      "(1, 5, 3)\n"
     ]
    }
   ],
   "source": [
    "pos_encoding = positional_encoding(position, d_model)\n",
    "print(pos_encoding)\n",
    "print(pos_encoding.shape)"
   ]
  },
  {
   "cell_type": "code",
   "execution_count": 25,
   "metadata": {
    "ExecuteTime": {
     "end_time": "2019-12-19T15:40:57.779054Z",
     "start_time": "2019-12-19T15:40:57.610963Z"
    }
   },
   "outputs": [
    {
     "data": {
      "image/png": "[encoded data removed]",
      "text/plain": [
       "<Figure size 432x288 with 2 Axes>"
      ]
     },
     "metadata": {},
     "output_type": "display_data"
    }
   ],
   "source": [
    "# postional encoding matrix를 시각화한다.\n",
    "plt.pcolormesh(pos_encoding[0], cmap='RdBu')\n",
    "plt.xlabel('Depth')\n",
    "plt.xlim((0, d_model))\n",
    "plt.ylabel('Position')\n",
    "plt.colorbar()\n",
    "plt.show()"
   ]
  }
 ],
 "metadata": {
  "kernelspec": {
   "display_name": "Python 3",
   "language": "python",
   "name": "python3"
  },
  "language_info": {
   "codemirror_mode": {
    "name": "ipython",
    "version": 3
   },
   "file_extension": ".py",
   "mimetype": "text/x-python",
   "name": "python",
   "nbconvert_exporter": "python",
   "pygments_lexer": "ipython3",
   "version": "3.6.5"
  },
  "toc": {
   "base_numbering": 1,
   "nav_menu": {},
   "number_sections": true,
   "sideBar": true,
   "skip_h1_title": false,
   "title_cell": "Table of Contents",
   "title_sidebar": "Contents",
   "toc_cell": false,
   "toc_position": {},
   "toc_section_display": true,
   "toc_window_display": false
  },
  "varInspector": {
   "cols": {
    "lenName": 16,
    "lenType": 16,
    "lenVar": 40
   },
   "kernels_config": {
    "python": {
     "delete_cmd_postfix": "",
     "delete_cmd_prefix": "del ",
     "library": "var_list.py",
     "varRefreshCmd": "print(var_dic_list())"
    },
    "r": {
     "delete_cmd_postfix": ") ",
     "delete_cmd_prefix": "rm(",
     "library": "var_list.r",
     "varRefreshCmd": "cat(var_dic_list()) "
    }
   },
   "types_to_exclude": [
    "module",
    "function",
    "builtin_function_or_method",
    "instance",
    "_Feature"
   ],
   "window_display": false
  }
 },
 "nbformat": 4,
 "nbformat_minor": 2
}
